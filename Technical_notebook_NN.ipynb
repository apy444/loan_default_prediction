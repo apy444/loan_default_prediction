{
 "cells": [
  {
   "cell_type": "markdown",
   "metadata": {},
   "source": [
    "# Technical notebook - Calssification using Neural Network"
   ]
  },
  {
   "cell_type": "markdown",
   "metadata": {},
   "source": [
    "### Summary of the used methodology\n",
    "\n"
   ]
  },
  {
   "cell_type": "markdown",
   "metadata": {},
   "source": [
    "## Import libraries"
   ]
  },
  {
   "cell_type": "code",
   "execution_count": 1,
   "metadata": {},
   "outputs": [],
   "source": [
    "import pandas as pd\n",
    "import numpy as np\n",
    "import warnings\n",
    "warnings.filterwarnings(\"ignore\")\n",
    "import seaborn as sns\n",
    "import matplotlib.pyplot as plt\n"
   ]
  },
  {
   "cell_type": "code",
   "execution_count": 3,
   "metadata": {},
   "outputs": [],
   "source": [
    "#conda install -c conda-forge imbalanced-learn"
   ]
  },
  {
   "cell_type": "markdown",
   "metadata": {},
   "source": [
    "## 1. Import Dataset"
   ]
  },
  {
   "cell_type": "code",
   "execution_count": 4,
   "metadata": {},
   "outputs": [
    {
     "ename": "FileNotFoundError",
     "evalue": "[Errno 2] File preprocessing/X_train2.csv does not exist: 'preprocessing/X_train2.csv'",
     "output_type": "error",
     "traceback": [
      "\u001b[0;31m---------------------------------------------------------------------------\u001b[0m",
      "\u001b[0;31mFileNotFoundError\u001b[0m                         Traceback (most recent call last)",
      "\u001b[0;32m<ipython-input-4-a9c00d5a62d0>\u001b[0m in \u001b[0;36m<module>\u001b[0;34m\u001b[0m\n\u001b[0;32m----> 1\u001b[0;31m \u001b[0mX_train\u001b[0m \u001b[0;34m=\u001b[0m \u001b[0mpd\u001b[0m\u001b[0;34m.\u001b[0m\u001b[0mread_csv\u001b[0m\u001b[0;34m(\u001b[0m\u001b[0;34m'preprocessing/X_train2.csv'\u001b[0m\u001b[0;34m,\u001b[0m \u001b[0mheader\u001b[0m\u001b[0;34m=\u001b[0m\u001b[0;32mNone\u001b[0m\u001b[0;34m)\u001b[0m\u001b[0;34m\u001b[0m\u001b[0;34m\u001b[0m\u001b[0m\n\u001b[0m\u001b[1;32m      2\u001b[0m \u001b[0my_train\u001b[0m \u001b[0;34m=\u001b[0m \u001b[0mpd\u001b[0m\u001b[0;34m.\u001b[0m\u001b[0mread_csv\u001b[0m\u001b[0;34m(\u001b[0m\u001b[0;34m'preprocessing/y_train2.csv'\u001b[0m\u001b[0;34m,\u001b[0m \u001b[0mheader\u001b[0m\u001b[0;34m=\u001b[0m\u001b[0;32mNone\u001b[0m\u001b[0;34m)\u001b[0m\u001b[0;34m\u001b[0m\u001b[0;34m\u001b[0m\u001b[0m\n\u001b[1;32m      3\u001b[0m \u001b[0mX_test\u001b[0m \u001b[0;34m=\u001b[0m \u001b[0mpd\u001b[0m\u001b[0;34m.\u001b[0m\u001b[0mread_csv\u001b[0m\u001b[0;34m(\u001b[0m\u001b[0;34m'preprocessing/X_test2.csv'\u001b[0m\u001b[0;34m,\u001b[0m \u001b[0mheader\u001b[0m\u001b[0;34m=\u001b[0m\u001b[0;32mNone\u001b[0m\u001b[0;34m)\u001b[0m\u001b[0;34m\u001b[0m\u001b[0;34m\u001b[0m\u001b[0m\n\u001b[1;32m      4\u001b[0m \u001b[0my_test\u001b[0m \u001b[0;34m=\u001b[0m \u001b[0mpd\u001b[0m\u001b[0;34m.\u001b[0m\u001b[0mread_csv\u001b[0m\u001b[0;34m(\u001b[0m\u001b[0;34m'preprocessing/y_test2.csv'\u001b[0m\u001b[0;34m,\u001b[0m \u001b[0mheader\u001b[0m\u001b[0;34m=\u001b[0m\u001b[0;32mNone\u001b[0m\u001b[0;34m)\u001b[0m\u001b[0;34m\u001b[0m\u001b[0;34m\u001b[0m\u001b[0m\n",
      "\u001b[0;32m~/opt/anaconda3/lib/python3.7/site-packages/pandas/io/parsers.py\u001b[0m in \u001b[0;36mparser_f\u001b[0;34m(filepath_or_buffer, sep, delimiter, header, names, index_col, usecols, squeeze, prefix, mangle_dupe_cols, dtype, engine, converters, true_values, false_values, skipinitialspace, skiprows, skipfooter, nrows, na_values, keep_default_na, na_filter, verbose, skip_blank_lines, parse_dates, infer_datetime_format, keep_date_col, date_parser, dayfirst, cache_dates, iterator, chunksize, compression, thousands, decimal, lineterminator, quotechar, quoting, doublequote, escapechar, comment, encoding, dialect, error_bad_lines, warn_bad_lines, delim_whitespace, low_memory, memory_map, float_precision)\u001b[0m\n\u001b[1;32m    674\u001b[0m         )\n\u001b[1;32m    675\u001b[0m \u001b[0;34m\u001b[0m\u001b[0m\n\u001b[0;32m--> 676\u001b[0;31m         \u001b[0;32mreturn\u001b[0m \u001b[0m_read\u001b[0m\u001b[0;34m(\u001b[0m\u001b[0mfilepath_or_buffer\u001b[0m\u001b[0;34m,\u001b[0m \u001b[0mkwds\u001b[0m\u001b[0;34m)\u001b[0m\u001b[0;34m\u001b[0m\u001b[0;34m\u001b[0m\u001b[0m\n\u001b[0m\u001b[1;32m    677\u001b[0m \u001b[0;34m\u001b[0m\u001b[0m\n\u001b[1;32m    678\u001b[0m     \u001b[0mparser_f\u001b[0m\u001b[0;34m.\u001b[0m\u001b[0m__name__\u001b[0m \u001b[0;34m=\u001b[0m \u001b[0mname\u001b[0m\u001b[0;34m\u001b[0m\u001b[0;34m\u001b[0m\u001b[0m\n",
      "\u001b[0;32m~/opt/anaconda3/lib/python3.7/site-packages/pandas/io/parsers.py\u001b[0m in \u001b[0;36m_read\u001b[0;34m(filepath_or_buffer, kwds)\u001b[0m\n\u001b[1;32m    446\u001b[0m \u001b[0;34m\u001b[0m\u001b[0m\n\u001b[1;32m    447\u001b[0m     \u001b[0;31m# Create the parser.\u001b[0m\u001b[0;34m\u001b[0m\u001b[0;34m\u001b[0m\u001b[0;34m\u001b[0m\u001b[0m\n\u001b[0;32m--> 448\u001b[0;31m     \u001b[0mparser\u001b[0m \u001b[0;34m=\u001b[0m \u001b[0mTextFileReader\u001b[0m\u001b[0;34m(\u001b[0m\u001b[0mfp_or_buf\u001b[0m\u001b[0;34m,\u001b[0m \u001b[0;34m**\u001b[0m\u001b[0mkwds\u001b[0m\u001b[0;34m)\u001b[0m\u001b[0;34m\u001b[0m\u001b[0;34m\u001b[0m\u001b[0m\n\u001b[0m\u001b[1;32m    449\u001b[0m \u001b[0;34m\u001b[0m\u001b[0m\n\u001b[1;32m    450\u001b[0m     \u001b[0;32mif\u001b[0m \u001b[0mchunksize\u001b[0m \u001b[0;32mor\u001b[0m \u001b[0miterator\u001b[0m\u001b[0;34m:\u001b[0m\u001b[0;34m\u001b[0m\u001b[0;34m\u001b[0m\u001b[0m\n",
      "\u001b[0;32m~/opt/anaconda3/lib/python3.7/site-packages/pandas/io/parsers.py\u001b[0m in \u001b[0;36m__init__\u001b[0;34m(self, f, engine, **kwds)\u001b[0m\n\u001b[1;32m    878\u001b[0m             \u001b[0mself\u001b[0m\u001b[0;34m.\u001b[0m\u001b[0moptions\u001b[0m\u001b[0;34m[\u001b[0m\u001b[0;34m\"has_index_names\"\u001b[0m\u001b[0;34m]\u001b[0m \u001b[0;34m=\u001b[0m \u001b[0mkwds\u001b[0m\u001b[0;34m[\u001b[0m\u001b[0;34m\"has_index_names\"\u001b[0m\u001b[0;34m]\u001b[0m\u001b[0;34m\u001b[0m\u001b[0;34m\u001b[0m\u001b[0m\n\u001b[1;32m    879\u001b[0m \u001b[0;34m\u001b[0m\u001b[0m\n\u001b[0;32m--> 880\u001b[0;31m         \u001b[0mself\u001b[0m\u001b[0;34m.\u001b[0m\u001b[0m_make_engine\u001b[0m\u001b[0;34m(\u001b[0m\u001b[0mself\u001b[0m\u001b[0;34m.\u001b[0m\u001b[0mengine\u001b[0m\u001b[0;34m)\u001b[0m\u001b[0;34m\u001b[0m\u001b[0;34m\u001b[0m\u001b[0m\n\u001b[0m\u001b[1;32m    881\u001b[0m \u001b[0;34m\u001b[0m\u001b[0m\n\u001b[1;32m    882\u001b[0m     \u001b[0;32mdef\u001b[0m \u001b[0mclose\u001b[0m\u001b[0;34m(\u001b[0m\u001b[0mself\u001b[0m\u001b[0;34m)\u001b[0m\u001b[0;34m:\u001b[0m\u001b[0;34m\u001b[0m\u001b[0;34m\u001b[0m\u001b[0m\n",
      "\u001b[0;32m~/opt/anaconda3/lib/python3.7/site-packages/pandas/io/parsers.py\u001b[0m in \u001b[0;36m_make_engine\u001b[0;34m(self, engine)\u001b[0m\n\u001b[1;32m   1112\u001b[0m     \u001b[0;32mdef\u001b[0m \u001b[0m_make_engine\u001b[0m\u001b[0;34m(\u001b[0m\u001b[0mself\u001b[0m\u001b[0;34m,\u001b[0m \u001b[0mengine\u001b[0m\u001b[0;34m=\u001b[0m\u001b[0;34m\"c\"\u001b[0m\u001b[0;34m)\u001b[0m\u001b[0;34m:\u001b[0m\u001b[0;34m\u001b[0m\u001b[0;34m\u001b[0m\u001b[0m\n\u001b[1;32m   1113\u001b[0m         \u001b[0;32mif\u001b[0m \u001b[0mengine\u001b[0m \u001b[0;34m==\u001b[0m \u001b[0;34m\"c\"\u001b[0m\u001b[0;34m:\u001b[0m\u001b[0;34m\u001b[0m\u001b[0;34m\u001b[0m\u001b[0m\n\u001b[0;32m-> 1114\u001b[0;31m             \u001b[0mself\u001b[0m\u001b[0;34m.\u001b[0m\u001b[0m_engine\u001b[0m \u001b[0;34m=\u001b[0m \u001b[0mCParserWrapper\u001b[0m\u001b[0;34m(\u001b[0m\u001b[0mself\u001b[0m\u001b[0;34m.\u001b[0m\u001b[0mf\u001b[0m\u001b[0;34m,\u001b[0m \u001b[0;34m**\u001b[0m\u001b[0mself\u001b[0m\u001b[0;34m.\u001b[0m\u001b[0moptions\u001b[0m\u001b[0;34m)\u001b[0m\u001b[0;34m\u001b[0m\u001b[0;34m\u001b[0m\u001b[0m\n\u001b[0m\u001b[1;32m   1115\u001b[0m         \u001b[0;32melse\u001b[0m\u001b[0;34m:\u001b[0m\u001b[0;34m\u001b[0m\u001b[0;34m\u001b[0m\u001b[0m\n\u001b[1;32m   1116\u001b[0m             \u001b[0;32mif\u001b[0m \u001b[0mengine\u001b[0m \u001b[0;34m==\u001b[0m \u001b[0;34m\"python\"\u001b[0m\u001b[0;34m:\u001b[0m\u001b[0;34m\u001b[0m\u001b[0;34m\u001b[0m\u001b[0m\n",
      "\u001b[0;32m~/opt/anaconda3/lib/python3.7/site-packages/pandas/io/parsers.py\u001b[0m in \u001b[0;36m__init__\u001b[0;34m(self, src, **kwds)\u001b[0m\n\u001b[1;32m   1889\u001b[0m         \u001b[0mkwds\u001b[0m\u001b[0;34m[\u001b[0m\u001b[0;34m\"usecols\"\u001b[0m\u001b[0;34m]\u001b[0m \u001b[0;34m=\u001b[0m \u001b[0mself\u001b[0m\u001b[0;34m.\u001b[0m\u001b[0musecols\u001b[0m\u001b[0;34m\u001b[0m\u001b[0;34m\u001b[0m\u001b[0m\n\u001b[1;32m   1890\u001b[0m \u001b[0;34m\u001b[0m\u001b[0m\n\u001b[0;32m-> 1891\u001b[0;31m         \u001b[0mself\u001b[0m\u001b[0;34m.\u001b[0m\u001b[0m_reader\u001b[0m \u001b[0;34m=\u001b[0m \u001b[0mparsers\u001b[0m\u001b[0;34m.\u001b[0m\u001b[0mTextReader\u001b[0m\u001b[0;34m(\u001b[0m\u001b[0msrc\u001b[0m\u001b[0;34m,\u001b[0m \u001b[0;34m**\u001b[0m\u001b[0mkwds\u001b[0m\u001b[0;34m)\u001b[0m\u001b[0;34m\u001b[0m\u001b[0;34m\u001b[0m\u001b[0m\n\u001b[0m\u001b[1;32m   1892\u001b[0m         \u001b[0mself\u001b[0m\u001b[0;34m.\u001b[0m\u001b[0munnamed_cols\u001b[0m \u001b[0;34m=\u001b[0m \u001b[0mself\u001b[0m\u001b[0;34m.\u001b[0m\u001b[0m_reader\u001b[0m\u001b[0;34m.\u001b[0m\u001b[0munnamed_cols\u001b[0m\u001b[0;34m\u001b[0m\u001b[0;34m\u001b[0m\u001b[0m\n\u001b[1;32m   1893\u001b[0m \u001b[0;34m\u001b[0m\u001b[0m\n",
      "\u001b[0;32mpandas/_libs/parsers.pyx\u001b[0m in \u001b[0;36mpandas._libs.parsers.TextReader.__cinit__\u001b[0;34m()\u001b[0m\n",
      "\u001b[0;32mpandas/_libs/parsers.pyx\u001b[0m in \u001b[0;36mpandas._libs.parsers.TextReader._setup_parser_source\u001b[0;34m()\u001b[0m\n",
      "\u001b[0;31mFileNotFoundError\u001b[0m: [Errno 2] File preprocessing/X_train2.csv does not exist: 'preprocessing/X_train2.csv'"
     ]
    }
   ],
   "source": [
    "X_train = pd.read_csv('preprocessing/X_train2.csv', header=None)\n",
    "y_train = pd.read_csv('preprocessing/y_train2.csv', header=None)\n",
    "X_test = pd.read_csv('preprocessing/X_test2.csv', header=None)\n",
    "y_test = pd.read_csv('preprocessing/y_test2.csv', header=None)"
   ]
  },
  {
   "cell_type": "code",
   "execution_count": 517,
   "metadata": {},
   "outputs": [],
   "source": [
    "feats = pd.read_csv('preprocessing/features.csv', header=None).iloc[:, 0].tolist()"
   ]
  },
  {
   "cell_type": "code",
   "execution_count": 424,
   "metadata": {},
   "outputs": [
    {
     "name": "stdout",
     "output_type": "stream",
     "text": [
      "X_train: (184107, 110) \n",
      "X_test: (46027, 110)\n",
      "y_train: (184107, 1) \n",
      "y_test: (46027, 1)\n"
     ]
    }
   ],
   "source": [
    "print('X_train:', X_train.shape,'\\nX_test:', X_test.shape)\n",
    "print('y_train:', y_train.shape,'\\ny_test:', y_test.shape)"
   ]
  },
  {
   "cell_type": "markdown",
   "metadata": {},
   "source": [
    "## 2. Manage Imbalance Data By Undersampling"
   ]
  },
  {
   "cell_type": "code",
   "execution_count": 426,
   "metadata": {},
   "outputs": [
    {
     "name": "stdout",
     "output_type": "stream",
     "text": [
      "The number of rows in the minority (default) category in train: 32,636.\n",
      "The number of rows in the minoriy (default) category in test: 8,159.\n"
     ]
    }
   ],
   "source": [
    "default_train = len(y_train[y_train[0]==1])\n",
    "print(f'The number of rows in the minority (default) category in train: {default_train:,}.')\n",
    "\n",
    "default_test = len(y_test[y_test[0]==1])\n",
    "print(f'The number of rows in the minoriy (default) category in test: {default_test:,}.')"
   ]
  },
  {
   "cell_type": "code",
   "execution_count": 427,
   "metadata": {},
   "outputs": [],
   "source": [
    "def under_sampling(X_data, y_data):\n",
    "    \n",
    "    default_indices = y_data[y_data[0]==1].index #find the default indices\n",
    "    non_default_indices = y_data[y_data[0]==0].index #find the non-default indices\n",
    "    \n",
    "    #sample indices from non-default:\n",
    "    sample_indices = random.sample(non_default_indices.tolist(), len(default_indices))\n",
    "    \n",
    "    #concatenate indices all defaulted, sample non-defaulted\n",
    "    under_sample_indices = sample_indices + default_indices.tolist()\n",
    "    \n",
    "    #get the dataset by indices\n",
    "    X_data_under = X_data.loc[under_sample_indices]\n",
    "    y_data_under = y_data.loc[under_sample_indices]\n",
    "    \n",
    "    return X_data_under, y_data_under"
   ]
  },
  {
   "cell_type": "code",
   "execution_count": 428,
   "metadata": {},
   "outputs": [
    {
     "name": "stdout",
     "output_type": "stream",
     "text": [
      "X_train_under: (65272, 110) \n",
      "y_train_under: (65272, 1)\n"
     ]
    }
   ],
   "source": [
    "X_train_under, y_train_under = under_sampling(X_train, y_train)\n",
    "print('X_train_under:', X_train_under.shape,'\\ny_train_under:', y_train_under.shape)"
   ]
  },
  {
   "cell_type": "code",
   "execution_count": 429,
   "metadata": {},
   "outputs": [
    {
     "name": "stdout",
     "output_type": "stream",
     "text": [
      "X_test_under: (16318, 110) \n",
      "y_test_under: (16318, 1)\n"
     ]
    }
   ],
   "source": [
    "X_test_under, y_test_under = under_sampling(X_test, y_test)\n",
    "print('X_test_under:', X_test_under.shape,'\\ny_test_under:', y_test_under.shape)"
   ]
  },
  {
   "cell_type": "code",
   "execution_count": 14,
   "metadata": {},
   "outputs": [],
   "source": [
    "# pip install --upgrade pip\n",
    "# pip install tensorflow\n",
    "# conda install -c anaconda keras"
   ]
  },
  {
   "cell_type": "markdown",
   "metadata": {},
   "source": [
    "## 3. Baseline - Logistic Regeression"
   ]
  },
  {
   "cell_type": "code",
   "execution_count": 430,
   "metadata": {},
   "outputs": [
    {
     "name": "stdout",
     "output_type": "stream",
     "text": [
      "Fitting 5 folds for each of 14 candidates, totalling 70 fits\n"
     ]
    },
    {
     "name": "stderr",
     "output_type": "stream",
     "text": [
      "[Parallel(n_jobs=-1)]: Using backend LokyBackend with 4 concurrent workers.\n",
      "[Parallel(n_jobs=-1)]: Done  42 tasks      | elapsed:   24.4s\n",
      "[Parallel(n_jobs=-1)]: Done  70 out of  70 | elapsed:   42.1s finished\n"
     ]
    },
    {
     "data": {
      "text/plain": [
       "GridSearchCV(cv=5, error_score=nan,\n",
       "             estimator=LogisticRegression(C=1.0, class_weight=None, dual=False,\n",
       "                                          fit_intercept=True,\n",
       "                                          intercept_scaling=1, l1_ratio=None,\n",
       "                                          max_iter=100, multi_class='auto',\n",
       "                                          n_jobs=None, penalty='l2',\n",
       "                                          random_state=123, solver='lbfgs',\n",
       "                                          tol=0.0001, verbose=0,\n",
       "                                          warm_start=False),\n",
       "             iid='deprecated', n_jobs=-1,\n",
       "             param_grid={'C': array([1.e-02, 1.e-01, 1.e+00, 1.e+01, 1.e+02, 1.e+03, 1.e+04]),\n",
       "                         'penalty': ['l1', 'l2']},\n",
       "             pre_dispatch='2*n_jobs', refit=True, return_train_score=False,\n",
       "             scoring='accuracy', verbose=1)"
      ]
     },
     "execution_count": 430,
     "metadata": {},
     "output_type": "execute_result"
    }
   ],
   "source": [
    "from sklearn.model_selection import GridSearchCV\n",
    "from sklearn.linear_model import LogisticRegression\n",
    "\n",
    "params = {'C': np.logspace(-2, 4, 7),\n",
    "          'penalty' : ['l1','l2']}\n",
    "\n",
    "log_grid = GridSearchCV(estimator=LogisticRegression(random_state=123),\n",
    "                          param_grid=params,\n",
    "                          scoring='accuracy',\n",
    "                          cv=5, verbose=2, n_jobs=-1)\n",
    "\n",
    "log_grid.fit(X_train_under, y_train_under)"
   ]
  },
  {
   "cell_type": "code",
   "execution_count": 431,
   "metadata": {},
   "outputs": [
    {
     "name": "stdout",
     "output_type": "stream",
     "text": [
      "Best score: 0.648\n",
      "Best parameters:\n",
      "\t {'C': 1000.0, 'penalty': 'l2'}\n",
      "Test score: 0.641\n"
     ]
    }
   ],
   "source": [
    "print(f'Best score: {log_grid.best_score_:.3f}')\n",
    "print('Best parameters:\\n\\t',log_grid.best_params_)\n",
    "print(f'Test score: {log_grid.best_estimator_.score(X_test_under, y_test_under):.3f}')"
   ]
  },
  {
   "cell_type": "code",
   "execution_count": 537,
   "metadata": {},
   "outputs": [
    {
     "data": {
      "text/html": [
       "<div>\n",
       "<style scoped>\n",
       "    .dataframe tbody tr th:only-of-type {\n",
       "        vertical-align: middle;\n",
       "    }\n",
       "\n",
       "    .dataframe tbody tr th {\n",
       "        vertical-align: top;\n",
       "    }\n",
       "\n",
       "    .dataframe thead th {\n",
       "        text-align: right;\n",
       "    }\n",
       "</style>\n",
       "<table border=\"1\" class=\"dataframe\">\n",
       "  <thead>\n",
       "    <tr style=\"text-align: right;\">\n",
       "      <th></th>\n",
       "      <th>Feature</th>\n",
       "      <th>Coef</th>\n",
       "    </tr>\n",
       "  </thead>\n",
       "  <tbody>\n",
       "    <tr>\n",
       "      <th>9</th>\n",
       "      <td>open_acc</td>\n",
       "      <td>-0.440430</td>\n",
       "    </tr>\n",
       "    <tr>\n",
       "      <th>38</th>\n",
       "      <td>total_il_high_credit_limit</td>\n",
       "      <td>-0.184198</td>\n",
       "    </tr>\n",
       "    <tr>\n",
       "      <th>107</th>\n",
       "      <td>annual_inc_log</td>\n",
       "      <td>-0.159314</td>\n",
       "    </tr>\n",
       "    <tr>\n",
       "      <th>13</th>\n",
       "      <td>tot_cur_bal</td>\n",
       "      <td>-0.154170</td>\n",
       "    </tr>\n",
       "    <tr>\n",
       "      <th>0</th>\n",
       "      <td>loan_amnt</td>\n",
       "      <td>-0.136911</td>\n",
       "    </tr>\n",
       "    <tr>\n",
       "      <th>109</th>\n",
       "      <td>total_bc_limit_log</td>\n",
       "      <td>-0.135718</td>\n",
       "    </tr>\n",
       "    <tr>\n",
       "      <th>19</th>\n",
       "      <td>mo_sin_old_rev_tl_op</td>\n",
       "      <td>-0.110790</td>\n",
       "    </tr>\n",
       "    <tr>\n",
       "      <th>31</th>\n",
       "      <td>num_rev_accts</td>\n",
       "      <td>-0.104849</td>\n",
       "    </tr>\n",
       "    <tr>\n",
       "      <th>7</th>\n",
       "      <td>fico_range_low</td>\n",
       "      <td>-0.103937</td>\n",
       "    </tr>\n",
       "    <tr>\n",
       "      <th>23</th>\n",
       "      <td>mths_since_recent_bc</td>\n",
       "      <td>-0.078274</td>\n",
       "    </tr>\n",
       "  </tbody>\n",
       "</table>\n",
       "</div>"
      ],
      "text/plain": [
       "                        Feature      Coef\n",
       "9                      open_acc -0.440430\n",
       "38   total_il_high_credit_limit -0.184198\n",
       "107              annual_inc_log -0.159314\n",
       "13                  tot_cur_bal -0.154170\n",
       "0                     loan_amnt -0.136911\n",
       "109          total_bc_limit_log -0.135718\n",
       "19         mo_sin_old_rev_tl_op -0.110790\n",
       "31                num_rev_accts -0.104849\n",
       "7                fico_range_low -0.103937\n",
       "23         mths_since_recent_bc -0.078274"
      ]
     },
     "execution_count": 537,
     "metadata": {},
     "output_type": "execute_result"
    }
   ],
   "source": [
    "coefs = pd.DataFrame(zip(feats, log_grid.best_estimator_.coef_[0]), columns=['Feature', 'Coef'])\n",
    "coefs.sort_values(by='Coef')[:10]"
   ]
  },
  {
   "cell_type": "code",
   "execution_count": 538,
   "metadata": {},
   "outputs": [
    {
     "data": {
      "text/html": [
       "<div>\n",
       "<style scoped>\n",
       "    .dataframe tbody tr th:only-of-type {\n",
       "        vertical-align: middle;\n",
       "    }\n",
       "\n",
       "    .dataframe tbody tr th {\n",
       "        vertical-align: top;\n",
       "    }\n",
       "\n",
       "    .dataframe thead th {\n",
       "        text-align: right;\n",
       "    }\n",
       "</style>\n",
       "<table border=\"1\" class=\"dataframe\">\n",
       "  <thead>\n",
       "    <tr style=\"text-align: right;\">\n",
       "      <th></th>\n",
       "      <th>Feature</th>\n",
       "      <th>Coef</th>\n",
       "    </tr>\n",
       "  </thead>\n",
       "  <tbody>\n",
       "    <tr>\n",
       "      <th>41</th>\n",
       "      <td>percent_bc_gt_75_cat</td>\n",
       "      <td>0.086876</td>\n",
       "    </tr>\n",
       "    <tr>\n",
       "      <th>6</th>\n",
       "      <td>earliest_cr_line</td>\n",
       "      <td>0.106392</td>\n",
       "    </tr>\n",
       "    <tr>\n",
       "      <th>36</th>\n",
       "      <td>tot_hi_cred_lim</td>\n",
       "      <td>0.119769</td>\n",
       "    </tr>\n",
       "    <tr>\n",
       "      <th>5</th>\n",
       "      <td>dti</td>\n",
       "      <td>0.132166</td>\n",
       "    </tr>\n",
       "    <tr>\n",
       "      <th>14</th>\n",
       "      <td>acc_open_past_24mths</td>\n",
       "      <td>0.153702</td>\n",
       "    </tr>\n",
       "    <tr>\n",
       "      <th>37</th>\n",
       "      <td>total_bal_ex_mort</td>\n",
       "      <td>0.176381</td>\n",
       "    </tr>\n",
       "    <tr>\n",
       "      <th>2</th>\n",
       "      <td>installment</td>\n",
       "      <td>0.291328</td>\n",
       "    </tr>\n",
       "    <tr>\n",
       "      <th>3</th>\n",
       "      <td>grade</td>\n",
       "      <td>0.291849</td>\n",
       "    </tr>\n",
       "    <tr>\n",
       "      <th>1</th>\n",
       "      <td>term</td>\n",
       "      <td>0.338977</td>\n",
       "    </tr>\n",
       "    <tr>\n",
       "      <th>33</th>\n",
       "      <td>num_sats</td>\n",
       "      <td>0.450588</td>\n",
       "    </tr>\n",
       "  </tbody>\n",
       "</table>\n",
       "</div>"
      ],
      "text/plain": [
       "                 Feature      Coef\n",
       "41  percent_bc_gt_75_cat  0.086876\n",
       "6       earliest_cr_line  0.106392\n",
       "36       tot_hi_cred_lim  0.119769\n",
       "5                    dti  0.132166\n",
       "14  acc_open_past_24mths  0.153702\n",
       "37     total_bal_ex_mort  0.176381\n",
       "2            installment  0.291328\n",
       "3                  grade  0.291849\n",
       "1                   term  0.338977\n",
       "33              num_sats  0.450588"
      ]
     },
     "execution_count": 538,
     "metadata": {},
     "output_type": "execute_result"
    }
   ],
   "source": [
    "coefs.sort_values(by='Coef')[-10:]"
   ]
  },
  {
   "cell_type": "markdown",
   "metadata": {},
   "source": [
    "#### Evaluate on imbalance dataset"
   ]
  },
  {
   "cell_type": "code",
   "execution_count": null,
   "metadata": {},
   "outputs": [],
   "source": [
    "from sklearn import metrics\n",
    "\n",
    "def get_metrics(y_true, y_pred, y_pred_prob):\n",
    "    auc = metrics.roc_auc_score(y_true, y_pred_prob)\n",
    "    accuracy = metrics.accuracy_score(y_true, y_pred)\n",
    "    recall = metrics.recall_score(y_true, y_pred)\n",
    "    f1 = metrics.f1_score(y_true, y_pred)\n",
    "    precision = metrics.precision_score(y_true, y_pred)\n",
    "    return accuracy, recall, precision, f1, auc"
   ]
  },
  {
   "cell_type": "code",
   "execution_count": 433,
   "metadata": {},
   "outputs": [
    {
     "name": "stdout",
     "output_type": "stream",
     "text": [
      "Accuracy:\tF1_score:\tPrecision:\tRecall: \tAUC:\n",
      "64.4%\t\t39.2%\t\t28.1%\t\t64.8%\t\t70.4%\n"
     ]
    },
    {
     "data": {
      "text/html": [
       "<div>\n",
       "<style scoped>\n",
       "    .dataframe tbody tr th:only-of-type {\n",
       "        vertical-align: middle;\n",
       "    }\n",
       "\n",
       "    .dataframe tbody tr th {\n",
       "        vertical-align: top;\n",
       "    }\n",
       "\n",
       "    .dataframe thead th {\n",
       "        text-align: right;\n",
       "    }\n",
       "</style>\n",
       "<table border=\"1\" class=\"dataframe\">\n",
       "  <thead>\n",
       "    <tr style=\"text-align: right;\">\n",
       "      <th>Predicted</th>\n",
       "      <th>0</th>\n",
       "      <th>1</th>\n",
       "      <th>All</th>\n",
       "    </tr>\n",
       "    <tr>\n",
       "      <th>Actual</th>\n",
       "      <th></th>\n",
       "      <th></th>\n",
       "      <th></th>\n",
       "    </tr>\n",
       "  </thead>\n",
       "  <tbody>\n",
       "    <tr>\n",
       "      <th>0</th>\n",
       "      <td>0.53</td>\n",
       "      <td>0.29</td>\n",
       "      <td>0.82</td>\n",
       "    </tr>\n",
       "    <tr>\n",
       "      <th>1</th>\n",
       "      <td>0.06</td>\n",
       "      <td>0.11</td>\n",
       "      <td>0.18</td>\n",
       "    </tr>\n",
       "    <tr>\n",
       "      <th>All</th>\n",
       "      <td>0.59</td>\n",
       "      <td>0.41</td>\n",
       "      <td>1.00</td>\n",
       "    </tr>\n",
       "  </tbody>\n",
       "</table>\n",
       "</div>"
      ],
      "text/plain": [
       "Predicted     0     1   All\n",
       "Actual                     \n",
       "0          0.53  0.29  0.82\n",
       "1          0.06  0.11  0.18\n",
       "All        0.59  0.41  1.00"
      ]
     },
     "metadata": {},
     "output_type": "display_data"
    }
   ],
   "source": [
    "y_test_pred_lr = log_grid.best_estimator_.predict(X_test)\n",
    "y_test_pred_prob_lr = log_grid.best_estimator_.decision_function(X_test)\n",
    "acc, recall, precision, f1, auc = get_metrics(y_test, y_test_pred_lr, y_test_pred_prob_lr)\n",
    "\n",
    "print(f'Accuracy:\\tF1_score:\\tPrecision:\\tRecall: \\tAUC:')\n",
    "print(f'{acc:.1%}\\t\\t{f1:.1%}\\t\\t{precision:.1%}\\t\\t{recall:.1%}\\t\\t{auc:.1%}')\n",
    "\n",
    "display(pd.crosstab(y_test.values.flatten(), y_test_pred_lr, rownames=['Actual'], \n",
    "        colnames=['Predicted'], margins = True, normalize=True).applymap(lambda x: f'{x:.2f}'))"
   ]
  },
  {
   "cell_type": "markdown",
   "metadata": {},
   "source": [
    "## 4. Build the MLP Model"
   ]
  },
  {
   "cell_type": "code",
   "execution_count": 2,
   "metadata": {},
   "outputs": [
    {
     "name": "stderr",
     "output_type": "stream",
     "text": [
      "Using TensorFlow backend.\n"
     ]
    },
    {
     "data": {
      "text/plain": [
       "'1.14.0'"
      ]
     },
     "execution_count": 2,
     "metadata": {},
     "output_type": "execute_result"
    }
   ],
   "source": [
    "import tensorflow as tf\n",
    "from tensorflow import keras\n",
    "from keras.models import Sequential\n",
    "from keras.layers import Dense, Dropout\n",
    "from keras.callbacks import EarlyStopping\n",
    "tf.__version__"
   ]
  },
  {
   "cell_type": "code",
   "execution_count": 261,
   "metadata": {},
   "outputs": [],
   "source": [
    "#metrics:\n",
    "from keras import backend as K\n",
    "\n",
    "def recall_m(y_true, y_pred):\n",
    "        true_positives = K.sum(K.round(K.clip(y_true * y_pred, 0, 1)))\n",
    "        possible_positives = K.sum(K.round(K.clip(y_true, 0, 1)))\n",
    "        recall = true_positives / (possible_positives + K.epsilon())\n",
    "        return recall\n",
    "\n",
    "def precision_m(y_true, y_pred):\n",
    "        true_positives = K.sum(K.round(K.clip(y_true * y_pred, 0, 1)))\n",
    "        predicted_positives = K.sum(K.round(K.clip(y_pred, 0, 1)))\n",
    "        precision = true_positives / (predicted_positives + K.epsilon())\n",
    "        return precision\n",
    "\n",
    "def f1_m(y_true, y_pred):\n",
    "    precision = precision_m(y_true, y_pred)\n",
    "    recall = recall_m(y_true, y_pred)\n",
    "    return 2*((precision*recall)/(precision+recall+K.epsilon()))\n"
   ]
  },
  {
   "cell_type": "code",
   "execution_count": 3,
   "metadata": {},
   "outputs": [
    {
     "ename": "NameError",
     "evalue": "name 'X_train_under' is not defined",
     "output_type": "error",
     "traceback": [
      "\u001b[0;31m---------------------------------------------------------------------------\u001b[0m",
      "\u001b[0;31mNameError\u001b[0m                                 Traceback (most recent call last)",
      "\u001b[0;32m<ipython-input-3-b53d07cc24b3>\u001b[0m in \u001b[0;36m<module>\u001b[0;34m\u001b[0m\n\u001b[1;32m      1\u001b[0m \u001b[0mmodel\u001b[0m \u001b[0;34m=\u001b[0m \u001b[0mSequential\u001b[0m\u001b[0;34m(\u001b[0m\u001b[0;34m)\u001b[0m\u001b[0;34m\u001b[0m\u001b[0;34m\u001b[0m\u001b[0m\n\u001b[1;32m      2\u001b[0m \u001b[0;34m\u001b[0m\u001b[0m\n\u001b[0;32m----> 3\u001b[0;31m \u001b[0mmodel\u001b[0m\u001b[0;34m.\u001b[0m\u001b[0madd\u001b[0m\u001b[0;34m(\u001b[0m\u001b[0mDense\u001b[0m\u001b[0;34m(\u001b[0m\u001b[0munits\u001b[0m\u001b[0;34m=\u001b[0m\u001b[0;36m96\u001b[0m\u001b[0;34m,\u001b[0m \u001b[0mactivation\u001b[0m\u001b[0;34m=\u001b[0m\u001b[0;34m'relu'\u001b[0m\u001b[0;34m,\u001b[0m \u001b[0minput_dim\u001b[0m\u001b[0;34m=\u001b[0m\u001b[0mX_train_under\u001b[0m\u001b[0;34m.\u001b[0m\u001b[0mshape\u001b[0m\u001b[0;34m[\u001b[0m\u001b[0;36m1\u001b[0m\u001b[0;34m]\u001b[0m\u001b[0;34m)\u001b[0m\u001b[0;34m)\u001b[0m\u001b[0;34m\u001b[0m\u001b[0;34m\u001b[0m\u001b[0m\n\u001b[0m\u001b[1;32m      4\u001b[0m \u001b[0mmodel\u001b[0m\u001b[0;34m.\u001b[0m\u001b[0madd\u001b[0m\u001b[0;34m(\u001b[0m\u001b[0mDropout\u001b[0m\u001b[0;34m(\u001b[0m\u001b[0;36m0.5\u001b[0m\u001b[0;34m)\u001b[0m\u001b[0;34m)\u001b[0m \u001b[0;31m#reduces overfitting\u001b[0m\u001b[0;34m\u001b[0m\u001b[0;34m\u001b[0m\u001b[0m\n\u001b[1;32m      5\u001b[0m \u001b[0mmodel\u001b[0m\u001b[0;34m.\u001b[0m\u001b[0madd\u001b[0m\u001b[0;34m(\u001b[0m\u001b[0mDense\u001b[0m\u001b[0;34m(\u001b[0m\u001b[0munits\u001b[0m\u001b[0;34m=\u001b[0m\u001b[0;36m48\u001b[0m\u001b[0;34m,\u001b[0m \u001b[0mactivation\u001b[0m\u001b[0;34m=\u001b[0m\u001b[0;34m'relu'\u001b[0m\u001b[0;34m)\u001b[0m\u001b[0;34m)\u001b[0m\u001b[0;34m\u001b[0m\u001b[0;34m\u001b[0m\u001b[0m\n",
      "\u001b[0;31mNameError\u001b[0m: name 'X_train_under' is not defined"
     ]
    }
   ],
   "source": [
    "model = Sequential()\n",
    "\n",
    "model.add(Dense(units=96, activation='relu', input_dim=X_train_under.shape[1]))\n",
    "model.add(Dropout(0.5)) #reduces overfitting\n",
    "model.add(Dense(units=48, activation='relu'))\n",
    "model.add(Dropout(0.3)) #reduces overfitting\n",
    "model.add(Dense(units=24, activation='relu'))\n",
    "model.add(Dropout(0.2))\n",
    "model.add(Dense(units=1, activation='sigmoid'))\n",
    "\n",
    "model.compile(loss='binary_crossentropy', optimizer='adam',\n",
    "               metrics=['accuracy', recall_m, f1_m, precision_m])"
   ]
  },
  {
   "cell_type": "code",
   "execution_count": 474,
   "metadata": {},
   "outputs": [
    {
     "name": "stdout",
     "output_type": "stream",
     "text": [
      "Train on 52217 samples, validate on 13055 samples\n",
      "Epoch 1/1000\n",
      " - 5s - loss: 0.6584 - accuracy: 0.6228 - recall_m: 0.1406 - f1_m: 0.2013 - precision_m: 0.4753 - val_loss: 0.8306 - val_accuracy: 0.1517 - val_recall_m: 0.1517 - val_f1_m: 0.2578 - val_precision_m: 0.9951\n",
      "Epoch 2/1000\n",
      " - 4s - loss: 0.6219 - accuracy: 0.6487 - recall_m: 0.2202 - f1_m: 0.3052 - precision_m: 0.5797 - val_loss: 0.8572 - val_accuracy: 0.2555 - val_recall_m: 0.2555 - val_f1_m: 0.4011 - val_precision_m: 1.0000\n",
      "Epoch 3/1000\n",
      " - 4s - loss: 0.6160 - accuracy: 0.6553 - recall_m: 0.2619 - f1_m: 0.3482 - precision_m: 0.5851 - val_loss: 0.8603 - val_accuracy: 0.2890 - val_recall_m: 0.2890 - val_f1_m: 0.4425 - val_precision_m: 1.0000\n",
      "Epoch 4/1000\n",
      " - 4s - loss: 0.6123 - accuracy: 0.6593 - recall_m: 0.2747 - f1_m: 0.3627 - precision_m: 0.6017 - val_loss: 0.8319 - val_accuracy: 0.3854 - val_recall_m: 0.3854 - val_f1_m: 0.5512 - val_precision_m: 1.0000\n",
      "Epoch 5/1000\n",
      " - 4s - loss: 0.6121 - accuracy: 0.6602 - recall_m: 0.2919 - f1_m: 0.3773 - precision_m: 0.5941 - val_loss: 0.8654 - val_accuracy: 0.3165 - val_recall_m: 0.3165 - val_f1_m: 0.4753 - val_precision_m: 1.0000\n",
      "Epoch 6/1000\n",
      " - 4s - loss: 0.6114 - accuracy: 0.6615 - recall_m: 0.2902 - f1_m: 0.3766 - precision_m: 0.6065 - val_loss: 0.8775 - val_accuracy: 0.2391 - val_recall_m: 0.2391 - val_f1_m: 0.3797 - val_precision_m: 1.0000\n",
      "Epoch 7/1000\n",
      " - 4s - loss: 0.6087 - accuracy: 0.6624 - recall_m: 0.3032 - f1_m: 0.3876 - precision_m: 0.5982 - val_loss: 0.8800 - val_accuracy: 0.3095 - val_recall_m: 0.3095 - val_f1_m: 0.4672 - val_precision_m: 1.0000\n",
      "Epoch 8/1000\n",
      " - 4s - loss: 0.6092 - accuracy: 0.6650 - recall_m: 0.3122 - f1_m: 0.3969 - precision_m: 0.5994 - val_loss: 0.8827 - val_accuracy: 0.2968 - val_recall_m: 0.2968 - val_f1_m: 0.4521 - val_precision_m: 1.0000\n",
      "Epoch 9/1000\n",
      " - 5s - loss: 0.6087 - accuracy: 0.6637 - recall_m: 0.3092 - f1_m: 0.3941 - precision_m: 0.6002 - val_loss: 0.8521 - val_accuracy: 0.3789 - val_recall_m: 0.3789 - val_f1_m: 0.5445 - val_precision_m: 1.0000\n",
      "Epoch 10/1000\n",
      " - 4s - loss: 0.6058 - accuracy: 0.6681 - recall_m: 0.3308 - f1_m: 0.4134 - precision_m: 0.6054 - val_loss: 0.8262 - val_accuracy: 0.3602 - val_recall_m: 0.3602 - val_f1_m: 0.5248 - val_precision_m: 1.0000\n",
      "Epoch 11/1000\n",
      " - 5s - loss: 0.6054 - accuracy: 0.6674 - recall_m: 0.3243 - f1_m: 0.4082 - precision_m: 0.6080 - val_loss: 0.8715 - val_accuracy: 0.3121 - val_recall_m: 0.3121 - val_f1_m: 0.4704 - val_precision_m: 1.0000\n",
      "Epoch 12/1000\n",
      " - 5s - loss: 0.6056 - accuracy: 0.6683 - recall_m: 0.3284 - f1_m: 0.4101 - precision_m: 0.6043 - val_loss: 0.8441 - val_accuracy: 0.3690 - val_recall_m: 0.3690 - val_f1_m: 0.5342 - val_precision_m: 1.0000\n",
      "Epoch 13/1000\n",
      " - 4s - loss: 0.6046 - accuracy: 0.6700 - recall_m: 0.3408 - f1_m: 0.4220 - precision_m: 0.6047 - val_loss: 0.8414 - val_accuracy: 0.4014 - val_recall_m: 0.4014 - val_f1_m: 0.5682 - val_precision_m: 1.0000\n",
      "Epoch 14/1000\n",
      " - 4s - loss: 0.6032 - accuracy: 0.6704 - recall_m: 0.3410 - f1_m: 0.4217 - precision_m: 0.6095 - val_loss: 0.8546 - val_accuracy: 0.3708 - val_recall_m: 0.3708 - val_f1_m: 0.5359 - val_precision_m: 1.0000\n",
      "Epoch 15/1000\n",
      " - 4s - loss: 0.6030 - accuracy: 0.6705 - recall_m: 0.3410 - f1_m: 0.4217 - precision_m: 0.6047 - val_loss: 0.8523 - val_accuracy: 0.3606 - val_recall_m: 0.3606 - val_f1_m: 0.5254 - val_precision_m: 1.0000\n",
      "Epoch 16/1000\n",
      " - 5s - loss: 0.6039 - accuracy: 0.6710 - recall_m: 0.3423 - f1_m: 0.4249 - precision_m: 0.6102 - val_loss: 0.8465 - val_accuracy: 0.3586 - val_recall_m: 0.3586 - val_f1_m: 0.5227 - val_precision_m: 1.0000\n",
      "Epoch 17/1000\n",
      " - 5s - loss: 0.6038 - accuracy: 0.6696 - recall_m: 0.3443 - f1_m: 0.4246 - precision_m: 0.6060 - val_loss: 0.8628 - val_accuracy: 0.3298 - val_recall_m: 0.3298 - val_f1_m: 0.4906 - val_precision_m: 1.0000\n",
      "Epoch 18/1000\n",
      " - 5s - loss: 0.6017 - accuracy: 0.6716 - recall_m: 0.3481 - f1_m: 0.4295 - precision_m: 0.6113 - val_loss: 0.8583 - val_accuracy: 0.3089 - val_recall_m: 0.3089 - val_f1_m: 0.4666 - val_precision_m: 1.0000\n",
      "Epoch 19/1000\n",
      " - 4s - loss: 0.6027 - accuracy: 0.6706 - recall_m: 0.3437 - f1_m: 0.4255 - precision_m: 0.6074 - val_loss: 0.8708 - val_accuracy: 0.3065 - val_recall_m: 0.3065 - val_f1_m: 0.4637 - val_precision_m: 1.0000\n",
      "Epoch 20/1000\n",
      " - 4s - loss: 0.6015 - accuracy: 0.6721 - recall_m: 0.3541 - f1_m: 0.4327 - precision_m: 0.6034 - val_loss: 0.8891 - val_accuracy: 0.3148 - val_recall_m: 0.3148 - val_f1_m: 0.4735 - val_precision_m: 1.0000\n",
      "Epoch 21/1000\n",
      " - 4s - loss: 0.6031 - accuracy: 0.6723 - recall_m: 0.3493 - f1_m: 0.4294 - precision_m: 0.6098 - val_loss: 0.8650 - val_accuracy: 0.2993 - val_recall_m: 0.2994 - val_f1_m: 0.4553 - val_precision_m: 1.0000\n",
      "Epoch 22/1000\n",
      " - 4s - loss: 0.6012 - accuracy: 0.6719 - recall_m: 0.3677 - f1_m: 0.4422 - precision_m: 0.6035 - val_loss: 0.8476 - val_accuracy: 0.3711 - val_recall_m: 0.3711 - val_f1_m: 0.5368 - val_precision_m: 1.0000\n",
      "Epoch 23/1000\n",
      " - 5s - loss: 0.5993 - accuracy: 0.6758 - recall_m: 0.3655 - f1_m: 0.4443 - precision_m: 0.6137 - val_loss: 0.8411 - val_accuracy: 0.3612 - val_recall_m: 0.3612 - val_f1_m: 0.5261 - val_precision_m: 1.0000\n",
      "Epoch 24/1000\n",
      " - 5s - loss: 0.5998 - accuracy: 0.6738 - recall_m: 0.3775 - f1_m: 0.4510 - precision_m: 0.6066 - val_loss: 0.9017 - val_accuracy: 0.3681 - val_recall_m: 0.3681 - val_f1_m: 0.5336 - val_precision_m: 1.0000\n",
      "Epoch 25/1000\n",
      " - 4s - loss: 0.6008 - accuracy: 0.6753 - recall_m: 0.3719 - f1_m: 0.4480 - precision_m: 0.6101 - val_loss: 0.8506 - val_accuracy: 0.3161 - val_recall_m: 0.3161 - val_f1_m: 0.4751 - val_precision_m: 1.0000\n",
      "Epoch 26/1000\n",
      " - 5s - loss: 0.6003 - accuracy: 0.6743 - recall_m: 0.3679 - f1_m: 0.4453 - precision_m: 0.6116 - val_loss: 0.8363 - val_accuracy: 0.3830 - val_recall_m: 0.3830 - val_f1_m: 0.5489 - val_precision_m: 1.0000\n",
      "Epoch 27/1000\n",
      " - 4s - loss: 0.5986 - accuracy: 0.6760 - recall_m: 0.3811 - f1_m: 0.4548 - precision_m: 0.6076 - val_loss: 0.8645 - val_accuracy: 0.4289 - val_recall_m: 0.4289 - val_f1_m: 0.5958 - val_precision_m: 1.0000\n",
      "Epoch 28/1000\n",
      " - 4s - loss: 0.5980 - accuracy: 0.6744 - recall_m: 0.3808 - f1_m: 0.4532 - precision_m: 0.6032 - val_loss: 0.8402 - val_accuracy: 0.4143 - val_recall_m: 0.4143 - val_f1_m: 0.5814 - val_precision_m: 1.0000\n",
      "Epoch 29/1000\n",
      " - 4s - loss: 0.5971 - accuracy: 0.6770 - recall_m: 0.3928 - f1_m: 0.4643 - precision_m: 0.6110 - val_loss: 0.8561 - val_accuracy: 0.3708 - val_recall_m: 0.3708 - val_f1_m: 0.5362 - val_precision_m: 1.0000\n",
      "Epoch 30/1000\n",
      " - 4s - loss: 0.5978 - accuracy: 0.6746 - recall_m: 0.3689 - f1_m: 0.4458 - precision_m: 0.6118 - val_loss: 0.8802 - val_accuracy: 0.3893 - val_recall_m: 0.3893 - val_f1_m: 0.5555 - val_precision_m: 1.0000\n",
      "Epoch 31/1000\n",
      " - 4s - loss: 0.5980 - accuracy: 0.6766 - recall_m: 0.3833 - f1_m: 0.4575 - precision_m: 0.6095 - val_loss: 0.8648 - val_accuracy: 0.3594 - val_recall_m: 0.3594 - val_f1_m: 0.5236 - val_precision_m: 1.0000\n",
      "Epoch 32/1000\n",
      " - 4s - loss: 0.5974 - accuracy: 0.6758 - recall_m: 0.3816 - f1_m: 0.4546 - precision_m: 0.6082 - val_loss: 0.8673 - val_accuracy: 0.3107 - val_recall_m: 0.3107 - val_f1_m: 0.4687 - val_precision_m: 1.0000\n",
      "Epoch 33/1000\n",
      " - 4s - loss: 0.5973 - accuracy: 0.6753 - recall_m: 0.3754 - f1_m: 0.4506 - precision_m: 0.6092 - val_loss: 0.8546 - val_accuracy: 0.3579 - val_recall_m: 0.3579 - val_f1_m: 0.5219 - val_precision_m: 1.0000\n",
      "Epoch 34/1000\n",
      " - 4s - loss: 0.5961 - accuracy: 0.6759 - recall_m: 0.3776 - f1_m: 0.4521 - precision_m: 0.6134 - val_loss: 0.8747 - val_accuracy: 0.3666 - val_recall_m: 0.3666 - val_f1_m: 0.5318 - val_precision_m: 1.0000\n",
      "Epoch 35/1000\n",
      " - 4s - loss: 0.5968 - accuracy: 0.6767 - recall_m: 0.3769 - f1_m: 0.4530 - precision_m: 0.6110 - val_loss: 0.8275 - val_accuracy: 0.3816 - val_recall_m: 0.3816 - val_f1_m: 0.5475 - val_precision_m: 1.0000\n",
      "Epoch 36/1000\n",
      " - 4s - loss: 0.5971 - accuracy: 0.6773 - recall_m: 0.3849 - f1_m: 0.4585 - precision_m: 0.6106 - val_loss: 0.9034 - val_accuracy: 0.3816 - val_recall_m: 0.3816 - val_f1_m: 0.5480 - val_precision_m: 1.0000\n",
      "Epoch 37/1000\n",
      " - 4s - loss: 0.5965 - accuracy: 0.6756 - recall_m: 0.3765 - f1_m: 0.4510 - precision_m: 0.6091 - val_loss: 0.8781 - val_accuracy: 0.3845 - val_recall_m: 0.3844 - val_f1_m: 0.5507 - val_precision_m: 1.0000\n",
      "Epoch 38/1000\n"
     ]
    },
    {
     "name": "stdout",
     "output_type": "stream",
     "text": [
      " - 4s - loss: 0.5968 - accuracy: 0.6786 - recall_m: 0.3817 - f1_m: 0.4585 - precision_m: 0.6168 - val_loss: 0.8602 - val_accuracy: 0.3529 - val_recall_m: 0.3529 - val_f1_m: 0.5165 - val_precision_m: 1.0000\n",
      "Epoch 39/1000\n",
      " - 4s - loss: 0.5953 - accuracy: 0.6799 - recall_m: 0.3895 - f1_m: 0.4624 - precision_m: 0.6127 - val_loss: 0.8562 - val_accuracy: 0.3751 - val_recall_m: 0.3751 - val_f1_m: 0.5408 - val_precision_m: 1.0000\n",
      "Epoch 40/1000\n",
      " - 6s - loss: 0.5943 - accuracy: 0.6803 - recall_m: 0.3938 - f1_m: 0.4664 - precision_m: 0.6156 - val_loss: 0.9110 - val_accuracy: 0.3398 - val_recall_m: 0.3398 - val_f1_m: 0.5020 - val_precision_m: 1.0000\n",
      "Epoch 41/1000\n",
      " - 4s - loss: 0.5943 - accuracy: 0.6789 - recall_m: 0.3929 - f1_m: 0.4648 - precision_m: 0.6111 - val_loss: 0.8569 - val_accuracy: 0.3878 - val_recall_m: 0.3878 - val_f1_m: 0.5541 - val_precision_m: 1.0000\n",
      "Epoch 42/1000\n",
      " - 4s - loss: 0.5944 - accuracy: 0.6785 - recall_m: 0.3889 - f1_m: 0.4628 - precision_m: 0.6090 - val_loss: 0.8599 - val_accuracy: 0.3923 - val_recall_m: 0.3923 - val_f1_m: 0.5588 - val_precision_m: 1.0000\n",
      "Epoch 43/1000\n",
      " - 4s - loss: 0.5944 - accuracy: 0.6787 - recall_m: 0.3821 - f1_m: 0.4571 - precision_m: 0.6173 - val_loss: 0.8370 - val_accuracy: 0.3975 - val_recall_m: 0.3976 - val_f1_m: 0.5641 - val_precision_m: 1.0000\n",
      "Epoch 44/1000\n",
      " - 4s - loss: 0.5954 - accuracy: 0.6789 - recall_m: 0.3868 - f1_m: 0.4613 - precision_m: 0.6158 - val_loss: 0.8728 - val_accuracy: 0.3750 - val_recall_m: 0.3750 - val_f1_m: 0.5405 - val_precision_m: 1.0000\n",
      "Epoch 45/1000\n",
      " - 4s - loss: 0.5954 - accuracy: 0.6800 - recall_m: 0.3907 - f1_m: 0.4652 - precision_m: 0.6188 - val_loss: 0.8478 - val_accuracy: 0.4095 - val_recall_m: 0.4095 - val_f1_m: 0.5763 - val_precision_m: 1.0000\n",
      "Epoch 46/1000\n",
      " - 4s - loss: 0.5944 - accuracy: 0.6815 - recall_m: 0.3917 - f1_m: 0.4668 - precision_m: 0.6216 - val_loss: 0.8750 - val_accuracy: 0.3958 - val_recall_m: 0.3958 - val_f1_m: 0.5621 - val_precision_m: 1.0000\n",
      "Epoch 47/1000\n",
      " - 4s - loss: 0.5936 - accuracy: 0.6818 - recall_m: 0.3977 - f1_m: 0.4709 - precision_m: 0.6189 - val_loss: 0.8737 - val_accuracy: 0.3556 - val_recall_m: 0.3556 - val_f1_m: 0.5195 - val_precision_m: 1.0000\n"
     ]
    },
    {
     "data": {
      "text/plain": [
       "<keras.callbacks.callbacks.History at 0x1a5bf10ed0>"
      ]
     },
     "execution_count": 474,
     "metadata": {},
     "output_type": "execute_result"
    }
   ],
   "source": [
    "model.fit(X_train_under, y_train_under, epochs=1000, verbose=2, validation_split=0.2,\n",
    "          callbacks=[EarlyStopping(monitor='val_f1_m', mode='max', patience=20, restore_best_weights=True)])\n"
   ]
  },
  {
   "cell_type": "markdown",
   "metadata": {},
   "source": [
    "#### Model performance on balanced test set"
   ]
  },
  {
   "cell_type": "code",
   "execution_count": 475,
   "metadata": {},
   "outputs": [
    {
     "name": "stdout",
     "output_type": "stream",
     "text": [
      "Accuracy:\tF1_score:\tPrecision:\tRecall: \tAUC:\n",
      "62.4%\t\t53.3%\t\t70.3%\t\t42.9%\t\t70.3%\n"
     ]
    },
    {
     "data": {
      "text/html": [
       "<div>\n",
       "<style scoped>\n",
       "    .dataframe tbody tr th:only-of-type {\n",
       "        vertical-align: middle;\n",
       "    }\n",
       "\n",
       "    .dataframe tbody tr th {\n",
       "        vertical-align: top;\n",
       "    }\n",
       "\n",
       "    .dataframe thead th {\n",
       "        text-align: right;\n",
       "    }\n",
       "</style>\n",
       "<table border=\"1\" class=\"dataframe\">\n",
       "  <thead>\n",
       "    <tr style=\"text-align: right;\">\n",
       "      <th>Predicted</th>\n",
       "      <th>0</th>\n",
       "      <th>1</th>\n",
       "      <th>All</th>\n",
       "    </tr>\n",
       "    <tr>\n",
       "      <th>Actual</th>\n",
       "      <th></th>\n",
       "      <th></th>\n",
       "      <th></th>\n",
       "    </tr>\n",
       "  </thead>\n",
       "  <tbody>\n",
       "    <tr>\n",
       "      <th>0</th>\n",
       "      <td>0.41</td>\n",
       "      <td>0.09</td>\n",
       "      <td>0.50</td>\n",
       "    </tr>\n",
       "    <tr>\n",
       "      <th>1</th>\n",
       "      <td>0.29</td>\n",
       "      <td>0.21</td>\n",
       "      <td>0.50</td>\n",
       "    </tr>\n",
       "    <tr>\n",
       "      <th>All</th>\n",
       "      <td>0.69</td>\n",
       "      <td>0.31</td>\n",
       "      <td>1.00</td>\n",
       "    </tr>\n",
       "  </tbody>\n",
       "</table>\n",
       "</div>"
      ],
      "text/plain": [
       "Predicted     0     1   All\n",
       "Actual                     \n",
       "0          0.41  0.09  0.50\n",
       "1          0.29  0.21  0.50\n",
       "All        0.69  0.31  1.00"
      ]
     },
     "metadata": {},
     "output_type": "display_data"
    }
   ],
   "source": [
    "# evaluate the model\n",
    "y_test_under_pred = model.predict_classes(X_test_under).flatten()\n",
    "y_test_under_pred_prob = model.predict_proba(X_test_under)\n",
    "acc, recall, precision, f1, auc = get_metrics(y_test_under, y_test_under_pred, y_test_under_pred_prob)\n",
    "\n",
    "print(f'Accuracy:\\tF1_score:\\tPrecision:\\tRecall: \\tAUC:')\n",
    "print(f'{acc:.1%}\\t\\t{f1:.1%}\\t\\t{precision:.1%}\\t\\t{recall:.1%}\\t\\t{auc:.1%}')\n",
    "\n",
    "\n",
    "display(pd.crosstab(y_test_under.values.flatten(), y_test_under_pred, rownames=['Actual'], \n",
    "        colnames=['Predicted'], margins = True, normalize=True).applymap(lambda x: f'{x:.2f}'))"
   ]
  },
  {
   "cell_type": "markdown",
   "metadata": {},
   "source": [
    "#### Model performance on the original (imbalanced) test set"
   ]
  },
  {
   "cell_type": "code",
   "execution_count": 476,
   "metadata": {},
   "outputs": [
    {
     "name": "stdout",
     "output_type": "stream",
     "text": [
      "Accuracy:\tF1_score:\tPrecision:\tRecall: \tAUC:\n",
      "74.8%\t\t37.6%\t\t33.5%\t\t42.9%\t\t70.4%\n"
     ]
    },
    {
     "data": {
      "text/html": [
       "<div>\n",
       "<style scoped>\n",
       "    .dataframe tbody tr th:only-of-type {\n",
       "        vertical-align: middle;\n",
       "    }\n",
       "\n",
       "    .dataframe tbody tr th {\n",
       "        vertical-align: top;\n",
       "    }\n",
       "\n",
       "    .dataframe thead th {\n",
       "        text-align: right;\n",
       "    }\n",
       "</style>\n",
       "<table border=\"1\" class=\"dataframe\">\n",
       "  <thead>\n",
       "    <tr style=\"text-align: right;\">\n",
       "      <th>Predicted</th>\n",
       "      <th>0</th>\n",
       "      <th>1</th>\n",
       "      <th>All</th>\n",
       "    </tr>\n",
       "    <tr>\n",
       "      <th>Actual</th>\n",
       "      <th></th>\n",
       "      <th></th>\n",
       "      <th></th>\n",
       "    </tr>\n",
       "  </thead>\n",
       "  <tbody>\n",
       "    <tr>\n",
       "      <th>0</th>\n",
       "      <td>0.67</td>\n",
       "      <td>0.15</td>\n",
       "      <td>0.82</td>\n",
       "    </tr>\n",
       "    <tr>\n",
       "      <th>1</th>\n",
       "      <td>0.10</td>\n",
       "      <td>0.08</td>\n",
       "      <td>0.18</td>\n",
       "    </tr>\n",
       "    <tr>\n",
       "      <th>All</th>\n",
       "      <td>0.77</td>\n",
       "      <td>0.23</td>\n",
       "      <td>1.00</td>\n",
       "    </tr>\n",
       "  </tbody>\n",
       "</table>\n",
       "</div>"
      ],
      "text/plain": [
       "Predicted     0     1   All\n",
       "Actual                     \n",
       "0          0.67  0.15  0.82\n",
       "1          0.10  0.08  0.18\n",
       "All        0.77  0.23  1.00"
      ]
     },
     "metadata": {},
     "output_type": "display_data"
    }
   ],
   "source": [
    "# evaluate the model\n",
    "from sklearn import metrics\n",
    "\n",
    "y_test_pred = model.predict_classes(X_test).flatten()\n",
    "y_test_pred_prob = model.predict_proba(X_test)\n",
    "acc, recall, precision, f1, auc = get_metrics(y_test, y_test_pred, y_test_pred_prob)\n",
    "\n",
    "print(f'Accuracy:\\tF1_score:\\tPrecision:\\tRecall: \\tAUC:')\n",
    "print(f'{acc:.1%}\\t\\t{f1:.1%}\\t\\t{precision:.1%}\\t\\t{recall:.1%}\\t\\t{auc:.1%}')\n",
    "\n",
    "\n",
    "display(pd.crosstab(y_test.values.flatten(), y_test_pred, rownames=['Actual'], \n",
    "        colnames=['Predicted'], margins = True, normalize=True).applymap(lambda x: f'{x:.2f}'))"
   ]
  },
  {
   "cell_type": "markdown",
   "metadata": {},
   "source": [
    "## 5. Compare the models with ROC curves"
   ]
  },
  {
   "cell_type": "code",
   "execution_count": 487,
   "metadata": {},
   "outputs": [],
   "source": [
    "def plot_roc(y_test, y_pred, name):\n",
    "    fpr, tpr, tresh = metrics.roc_curve(y_test, y_pred)\n",
    "    auc_score = round(metrics.roc_auc_score(y_test, y_pred),3)\n",
    "    plt.plot(fpr, tpr, label = f'{name}   (auc = {auc_score})')"
   ]
  },
  {
   "cell_type": "code",
   "execution_count": 536,
   "metadata": {},
   "outputs": [
    {
     "data": {
      "image/png": "[encoded data removed]",
      "text/plain": [
       "<Figure size 576x432 with 1 Axes>"
      ]
     },
     "metadata": {
      "needs_background": "light"
     },
     "output_type": "display_data"
    }
   ],
   "source": [
    "fig = plt.figure(figsize=(8,6))\n",
    "\n",
    "plot_roc(y_test, model.predict_proba(X_test), 'Neural Network')\n",
    "plot_roc(y_test, log_grid.best_estimator_.decision_function(X_test), 'Logistic Regression')\n",
    "\n",
    "plt.plot([0,1],[0,1],'--', color='black', label = 'No Skill') #diagonal line\n",
    "plt.title('ROC Curve')\n",
    "plt.xlabel('False Positive Rate', fontsize=12)\n",
    "plt.ylabel('True Positive Rate', fontsize=12)\n",
    "plt.legend(loc = 'lower right', frameon=False, fontsize=12)\n",
    "plt.xlim([0.0, 1.0])\n",
    "plt.ylim([0.0, 1.01])\n",
    "plt.show()"
   ]
  },
  {
   "cell_type": "markdown",
   "metadata": {},
   "source": [
    "## 6. Compare the models with Precision-Recall curves"
   ]
  },
  {
   "cell_type": "code",
   "execution_count": 485,
   "metadata": {},
   "outputs": [],
   "source": [
    "def plot_prc(y_test, y_pred, name):\n",
    "    precision, recall, thresh = metrics.precision_recall_curve(y_test, y_pred)\n",
    "#     f1 = metrics.f1_score(y_test, y_pred)\n",
    "    plt.plot(recall, precision, label = f'{name}')"
   ]
  },
  {
   "cell_type": "code",
   "execution_count": 535,
   "metadata": {},
   "outputs": [
    {
     "data": {
      "image/png": "[encoded data removed]",
      "text/plain": [
       "<Figure size 576x432 with 1 Axes>"
      ]
     },
     "metadata": {
      "needs_background": "light"
     },
     "output_type": "display_data"
    }
   ],
   "source": [
    "fig = plt.figure(figsize=(8,6))\n",
    "\n",
    "plot_prc(y_test, model.predict_proba(X_test), 'Neural Network')\n",
    "plot_prc(y_test, log_grid.best_estimator_.decision_function(X_test), 'Logistic Regression')\n",
    "\n",
    "plt.plot([0, 1], [0, 0], linestyle='--',  color='black', label = 'No Skill') #horizontal line below\n",
    "\n",
    "# plt.plot([0,1],[0,1],'--', color='black') #diagonal line\n",
    "plt.title('Precision-Recall Curve')\n",
    "plt.xlabel('Recall', fontsize=12)\n",
    "plt.ylabel('Precision', fontsize=12)\n",
    "plt.legend(loc = 'upper right', frameon=False, fontsize=12)\n",
    "plt.xlim([-0.01, 1.01])\n",
    "plt.ylim([-0.01, 1.01])\n",
    "plt.show()"
   ]
  },
  {
   "cell_type": "code",
   "execution_count": null,
   "metadata": {},
   "outputs": [],
   "source": []
  }
 ],
 "metadata": {
  "kernelspec": {
   "display_name": "Python 3",
   "language": "python",
   "name": "python3"
  },
  "language_info": {
   "codemirror_mode": {
    "name": "ipython",
    "version": 3
   },
   "file_extension": ".py",
   "mimetype": "text/x-python",
   "name": "python",
   "nbconvert_exporter": "python",
   "pygments_lexer": "ipython3",
   "version": "3.7.6"
  },
  "latex_envs": {
   "LaTeX_envs_menu_present": true,
   "autoclose": true,
   "autocomplete": true,
   "bibliofile": "biblio.bib",
   "cite_by": "apalike",
   "current_citInitial": 1,
   "eqLabelWithNumbers": true,
   "eqNumInitial": 1,
   "hotkeys": {
    "equation": "Ctrl-E",
    "itemize": "Ctrl-I"
   },
   "labels_anchors": false,
   "latex_user_defs": false,
   "report_style_numbering": false,
   "user_envs_cfg": false
  },
  "varInspector": {
   "cols": {
    "lenName": 16,
    "lenType": 16,
    "lenVar": 40
   },
   "kernels_config": {
    "python": {
     "delete_cmd_postfix": "",
     "delete_cmd_prefix": "del ",
     "library": "var_list.py",
     "varRefreshCmd": "print(var_dic_list())"
    },
    "r": {
     "delete_cmd_postfix": ") ",
     "delete_cmd_prefix": "rm(",
     "library": "var_list.r",
     "varRefreshCmd": "cat(var_dic_list()) "
    }
   },
   "types_to_exclude": [
    "module",
    "function",
    "builtin_function_or_method",
    "instance",
    "_Feature"
   ],
   "window_display": false
  }
 },
 "nbformat": 4,
 "nbformat_minor": 2
}
